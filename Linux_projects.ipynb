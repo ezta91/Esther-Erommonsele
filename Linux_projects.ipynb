{
  "nbformat": 4,
  "nbformat_minor": 0,
  "metadata": {
    "colab": {
      "provenance": [],
      "authorship_tag": "ABX9TyNwAp95zmNwLGqRzLdrWEDc",
      "include_colab_link": true
    },
    "kernelspec": {
      "name": "python3",
      "display_name": "Python 3"
    },
    "language_info": {
      "name": "python"
    }
  },
  "cells": [
    {
      "cell_type": "markdown",
      "metadata": {
        "id": "view-in-github",
        "colab_type": "text"
      },
      "source": [
        "<a href=\"https://colab.research.google.com/github/ezta91/Esther-Erommonsele/blob/main/Linux_projects.ipynb\" target=\"_parent\"><img src=\"https://colab.research.google.com/assets/colab-badge.svg\" alt=\"Open In Colab\"/></a>"
      ]
    },
    {
      "cell_type": "code",
      "execution_count": 1,
      "metadata": {
        "id": "L23uEZkZdRGz"
      },
      "outputs": [],
      "source": [
        "!mkdir /content/linuxlab"
      ]
    },
    {
      "cell_type": "code",
      "source": [
        "!touch /content/linuxlab/test1.txt"
      ],
      "metadata": {
        "id": "70fch2O8dpAn"
      },
      "execution_count": 2,
      "outputs": []
    },
    {
      "cell_type": "code",
      "source": [
        "with open('/content/linuxlab/test1.txt', 'w') as f:\n",
        "  f.write('Human history is the record of humankind from prehistory to the present. Modern humans evolved in Africa around 300,000 years ago and initially lived as hunter-gatherers. They migrated out of Africa during the Last Ice Age and had populated most of the Earth by the end of the Ice Age 12,000 years ago. Soon afterward, the Neolithic Revolution in West Asia brought the first systematic husbandry of plants and animals, and saw many humans transition from a nomadic life to a sedentary existence as farmers in permanent settlements. The growing complexity of human societies necessitated systems of accounting and writing. These developments paved the way for the emergence of early civilizations in Mesopotamia, Egypt, the Indus Valley, and China, marking the beginning of the Ancient period in 3500 BCE. These civilizations supported the establishment of regional empires and acted as a fertile ground for the advent of transformative philosophical and religious ideas, initially Hinduism during the late Bronze Age, and later Buddhism, Confucianism, Greek philosophy, Jainism, Judaism, Taoism, and Zoroastrianism during the Axial Age. The following post-classical period, from about 500 to 1500 CE, witnessed the rise of Islam and the continued spread and consolidation of Christianity while civilization expanded to new parts of the world and trade between societies increased. These developments were accompanied by the rise and decline of major empires, such as the Byzantine Empire, the Islamic Caliphates, the Mongol Empire, and various Chinese dynasties. This period invention of gunpowder and of the printing press greatly affected subsequent history. During the early modern period, spanning from approximately 1500 to 1800 CE, European powers explored and colonized regions worldwide, intensifying cultural and economic exchange. This era saw substantial intellectual, cultural, and technological advances driven by the Renaissance, the Scientific Revolution, and the Enlightenment. By the 18th century, the accumulation of knowledge and technology had reached a critical mass that brought about the Industrial Revolution and began the modern period starting around 1800 CE. The growth in productive power further increased international trade and colonization, linking the different civilizations in the process of globalization. Over the last quarter-millennium, despite the devastating effects of two world wars, there has been a great acceleration in the rates of growth of many domains, including human population, agriculture, industry, commerce, scientific knowledge, technology, communications, military capabilities, and environmental degradation. The study of human history relies on insights from academic disciplines including history, archaeology, anthropology, linguistics, and genetics. To provide an accessible overview, researchers divide human history by a variety of periodizations.')"
      ],
      "metadata": {
        "id": "JHOR0-xCd5O6"
      },
      "execution_count": 3,
      "outputs": []
    },
    {
      "cell_type": "code",
      "source": [
        "with open('/content/linuxlab/test1.txt', 'r') as f:\n",
        "  print(f.read())"
      ],
      "metadata": {
        "colab": {
          "base_uri": "https://localhost:8080/"
        },
        "id": "_nX5Zm8xfLnx",
        "outputId": "1c34cb01-67eb-4cc3-a753-211f3597c8ba"
      },
      "execution_count": 4,
      "outputs": [
        {
          "output_type": "stream",
          "name": "stdout",
          "text": [
            "Human history is the record of humankind from prehistory to the present. Modern humans evolved in Africa around 300,000 years ago and initially lived as hunter-gatherers. They migrated out of Africa during the Last Ice Age and had populated most of the Earth by the end of the Ice Age 12,000 years ago. Soon afterward, the Neolithic Revolution in West Asia brought the first systematic husbandry of plants and animals, and saw many humans transition from a nomadic life to a sedentary existence as farmers in permanent settlements. The growing complexity of human societies necessitated systems of accounting and writing. These developments paved the way for the emergence of early civilizations in Mesopotamia, Egypt, the Indus Valley, and China, marking the beginning of the Ancient period in 3500 BCE. These civilizations supported the establishment of regional empires and acted as a fertile ground for the advent of transformative philosophical and religious ideas, initially Hinduism during the late Bronze Age, and later Buddhism, Confucianism, Greek philosophy, Jainism, Judaism, Taoism, and Zoroastrianism during the Axial Age. The following post-classical period, from about 500 to 1500 CE, witnessed the rise of Islam and the continued spread and consolidation of Christianity while civilization expanded to new parts of the world and trade between societies increased. These developments were accompanied by the rise and decline of major empires, such as the Byzantine Empire, the Islamic Caliphates, the Mongol Empire, and various Chinese dynasties. This period invention of gunpowder and of the printing press greatly affected subsequent history. During the early modern period, spanning from approximately 1500 to 1800 CE, European powers explored and colonized regions worldwide, intensifying cultural and economic exchange. This era saw substantial intellectual, cultural, and technological advances driven by the Renaissance, the Scientific Revolution, and the Enlightenment. By the 18th century, the accumulation of knowledge and technology had reached a critical mass that brought about the Industrial Revolution and began the modern period starting around 1800 CE. The growth in productive power further increased international trade and colonization, linking the different civilizations in the process of globalization. Over the last quarter-millennium, despite the devastating effects of two world wars, there has been a great acceleration in the rates of growth of many domains, including human population, agriculture, industry, commerce, scientific knowledge, technology, communications, military capabilities, and environmental degradation. The study of human history relies on insights from academic disciplines including history, archaeology, anthropology, linguistics, and genetics. To provide an accessible overview, researchers divide human history by a variety of periodizations.\n"
          ]
        }
      ]
    },
    {
      "cell_type": "code",
      "source": [
        "!touch /content/linuxlab/test2.txt"
      ],
      "metadata": {
        "id": "e5LRbuayfiYf"
      },
      "execution_count": 5,
      "outputs": []
    },
    {
      "cell_type": "code",
      "source": [
        "with open('/content/linuxlab/test2.txt', 'w') as f:\n",
        "  f.write('Human history is the record of humankind from prehistory to the present. Modern humans evolved in Africa around 300,000 years ago and initially lived as hunter-gatherers. They migrated out of Africa during the Last Ice Age and had populated most of the Earth by the end of the Ice Age 12,000 years ago. Soon afterward, the Neolithic Revolution in West Asia brought the first systematic husbandry of plants and animals, and saw many humans transition from a nomadic life to a sedentary existence as farmers in permanent settlements. The growing complexity of human societies necessitated systems of accounting and writing.')"
      ],
      "metadata": {
        "id": "ROFGxTSvhKCB"
      },
      "execution_count": 6,
      "outputs": []
    },
    {
      "cell_type": "code",
      "source": [
        "with open('/content/linuxlab/test2.txt', 'r') as f:\n",
        "  print(f.read())"
      ],
      "metadata": {
        "colab": {
          "base_uri": "https://localhost:8080/"
        },
        "id": "dzLVyO-ehkGQ",
        "outputId": "23109141-1b77-4c0f-fafa-da4805b927b8"
      },
      "execution_count": 8,
      "outputs": [
        {
          "output_type": "stream",
          "name": "stdout",
          "text": [
            "Human history is the record of humankind from prehistory to the present. Modern humans evolved in Africa around 300,000 years ago and initially lived as hunter-gatherers. They migrated out of Africa during the Last Ice Age and had populated most of the Earth by the end of the Ice Age 12,000 years ago. Soon afterward, the Neolithic Revolution in West Asia brought the first systematic husbandry of plants and animals, and saw many humans transition from a nomadic life to a sedentary existence as farmers in permanent settlements. The growing complexity of human societies necessitated systems of accounting and writing.\n"
          ]
        }
      ]
    },
    {
      "cell_type": "code",
      "source": [
        "!touch /content/linuxlab/test3.txt"
      ],
      "metadata": {
        "id": "lyibzPzch4NS"
      },
      "execution_count": 9,
      "outputs": []
    },
    {
      "cell_type": "code",
      "source": [
        "with open('/content/linuxlab/test3.txt', 'w') as f:\n",
        "  f.write('By the 18th century, the accumulation of knowledge and technology had reached a critical mass that brought about the Industrial Revolution and began the modern period starting around 1800 CE. The growth in productive power further increased international trade and colonization, linking the different civilizations in the process of globalization. Over the last quarter-millennium, despite the devastating effects of two world wars, there has been a great acceleration in the rates of growth of many domains, including human population, agriculture, industry, commerce, scientific knowledge, technology, communications, military capabilities, and environmental degradation. The study of human history relies on insights from academic disciplines including history, archaeology, anthropology, linguistics, and genetics. To provide an accessible overview, researchers divide human history by a variety of periodizations.')"
      ],
      "metadata": {
        "id": "5ndxYNvWigB0"
      },
      "execution_count": 12,
      "outputs": []
    },
    {
      "cell_type": "code",
      "source": [
        "with open('/content/linuxlab/test3.txt', 'r') as f:\n",
        "  print(f.read())"
      ],
      "metadata": {
        "colab": {
          "base_uri": "https://localhost:8080/"
        },
        "id": "U_r_U0KRjZ35",
        "outputId": "323aae32-902e-4163-86f4-10e78d0a00c9"
      },
      "execution_count": 13,
      "outputs": [
        {
          "output_type": "stream",
          "name": "stdout",
          "text": [
            "By the 18th century, the accumulation of knowledge and technology had reached a critical mass that brought about the Industrial Revolution and began the modern period starting around 1800 CE. The growth in productive power further increased international trade and colonization, linking the different civilizations in the process of globalization. Over the last quarter-millennium, despite the devastating effects of two world wars, there has been a great acceleration in the rates of growth of many domains, including human population, agriculture, industry, commerce, scientific knowledge, technology, communications, military capabilities, and environmental degradation. The study of human history relies on insights from academic disciplines including history, archaeology, anthropology, linguistics, and genetics. To provide an accessible overview, researchers divide human history by a variety of periodizations.\n"
          ]
        }
      ]
    },
    {
      "cell_type": "code",
      "source": [
        "!cat /content/linuxlab/test1.txt"
      ],
      "metadata": {
        "colab": {
          "base_uri": "https://localhost:8080/"
        },
        "id": "KwFnrC5bkO0W",
        "outputId": "ce608186-0b8c-430b-ffe4-cb74ab16324d"
      },
      "execution_count": 14,
      "outputs": [
        {
          "output_type": "stream",
          "name": "stdout",
          "text": [
            "Human history is the record of humankind from prehistory to the present. Modern humans evolved in Africa around 300,000 years ago and initially lived as hunter-gatherers. They migrated out of Africa during the Last Ice Age and had populated most of the Earth by the end of the Ice Age 12,000 years ago. Soon afterward, the Neolithic Revolution in West Asia brought the first systematic husbandry of plants and animals, and saw many humans transition from a nomadic life to a sedentary existence as farmers in permanent settlements. The growing complexity of human societies necessitated systems of accounting and writing. These developments paved the way for the emergence of early civilizations in Mesopotamia, Egypt, the Indus Valley, and China, marking the beginning of the Ancient period in 3500 BCE. These civilizations supported the establishment of regional empires and acted as a fertile ground for the advent of transformative philosophical and religious ideas, initially Hinduism during the late Bronze Age, and later Buddhism, Confucianism, Greek philosophy, Jainism, Judaism, Taoism, and Zoroastrianism during the Axial Age. The following post-classical period, from about 500 to 1500 CE, witnessed the rise of Islam and the continued spread and consolidation of Christianity while civilization expanded to new parts of the world and trade between societies increased. These developments were accompanied by the rise and decline of major empires, such as the Byzantine Empire, the Islamic Caliphates, the Mongol Empire, and various Chinese dynasties. This period invention of gunpowder and of the printing press greatly affected subsequent history. During the early modern period, spanning from approximately 1500 to 1800 CE, European powers explored and colonized regions worldwide, intensifying cultural and economic exchange. This era saw substantial intellectual, cultural, and technological advances driven by the Renaissance, the Scientific Revolution, and the Enlightenment. By the 18th century, the accumulation of knowledge and technology had reached a critical mass that brought about the Industrial Revolution and began the modern period starting around 1800 CE. The growth in productive power further increased international trade and colonization, linking the different civilizations in the process of globalization. Over the last quarter-millennium, despite the devastating effects of two world wars, there has been a great acceleration in the rates of growth of many domains, including human population, agriculture, industry, commerce, scientific knowledge, technology, communications, military capabilities, and environmental degradation. The study of human history relies on insights from academic disciplines including history, archaeology, anthropology, linguistics, and genetics. To provide an accessible overview, researchers divide human history by a variety of periodizations."
          ]
        }
      ]
    }
  ]
}